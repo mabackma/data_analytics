{
 "cells": [
  {
   "cell_type": "markdown",
   "metadata": {},
   "source": [
    "<h2><b>Advanced extra tasks for extra points (varying challenges, some require Googling):</b></h2>"
   ]
  },
  {
   "cell_type": "markdown",
   "metadata": {},
   "source": [
    "<ul>\n",
    "<li><b>4. Try out any of the previous examples and exercises by using any or many\n",
    "of the following additional plotting libraries:<br /><br />\n",
    "</li>\n",
    "<ul>\n",
    "<li><b>Matplotlib (this is the most common in addition to seaborn,\n",
    "especially regarding machine learning, recommended to learn)</b><br />\n",
    "<a href=\"https://matplotlib.org/stable/tutorials/index.html#introductory\">https://matplotlib.org/stable/tutorials/index.html#introductory</a><br /><br /></li>\n",
    "<li><b>Plotly</b><br />\n",
    "<a href=\"https://plotly.com/python/getting-started/\">https://plotly.com/python/getting-started/</a><br /><br /></li>\n",
    "<li><b>Bokeh</b><br /><a href=\"https://docs.bokeh.org/en/latest/docs/user_guide.html\">https://docs.bokeh.org/en/latest/docs/user_guide.html</a>\n",
    "<br /><br /></li>\n",
    "</ul>\n",
    "</ul>\n",
    "<img src=\"http://srv.plab.fi/~tuomasv/data_analytics_2023_images/exercise_set_3/charts.png\" />\n"
   ]
  },
  {
   "cell_type": "code",
   "execution_count": null,
   "metadata": {},
   "outputs": [],
   "source": [
    "import pandas as pd\n",
    "import numpy as np\n",
    "import matplotlib.pyplot as plt\n",
    "import seaborn as sns"
   ]
  },
  {
   "cell_type": "markdown",
   "metadata": {},
   "source": [
    "<ul>\n",
    "<li><b>5. Try out any of the datasets below, or find yourself an interesting csvdataset from kaggle.com!  </b><br>\n",
    "\n",
    "Use all your skills in numpy, pandas and seaborn, and find out features in\n",
    "the data. <br ><br />\n",
    "<b>Was there something that is surprising in the dataset? What\n",
    "interesting correlations did you find?</b>\n",
    "<br><br>\n",
    "<b>Some interesting datasets, examples (you can find you own too!):</b>\n",
    "</li>\n",
    "<ul>\n",
    "<li><a href=\"https://www.kaggle.com/anamvillalpando/world-happiness-ranking\">https://www.kaggle.com/anamvillalpando/world-happiness-ranking</a></li>\n",
    "<li><a href=\"https://www.kaggle.com/sakshigoyal7/credit-card-customers\">https://www.kaggle.com/sakshigoyal7/credit-card-customers</a></li>\n",
    "<li><a href=\"https://www.kaggle.com/lucabasa/dutch-energy\">https://www.kaggle.com/lucabasa/dutch-energy</a></li>\n",
    "<li><a href=\"https://www.kaggle.com/yamaerenay/spotify-dataset-19212020-160k-tracks?select=data_w_genres.csv\">https://www.kaggle.com/yamaerenay/spotify-dataset-19212020-160k-tracks?select=data_w_genres.csv</a></li>\n",
    "<li><a href=\"https://www.kaggle.com/kboghe/android-apps-metadata?select=Android+apps+csv.csv\">https://www.kaggle.com/kboghe/android-apps-metadata?select=Android+apps+csv.csv</a></li>\n",
    "<li><a href=\"https://www.kaggle.com/sudalairajkumar/cryptocurrencypricehistory?select=coin_Bitcoin.csv\">https://www.kaggle.com/sudalairajkumar/cryptocurrencypricehistory?select=coin_Bitcoin.csv</a><br /><br /></li>\n",
    "</ul>\n",
    "<li><b>Note:</b> These datasets can be quite rough to handle at first, feel free to\n",
    "ask tips from your instructor if some dataset interests you!</li>\n",
    "</ul>\n",
    "\n",
    "<img src=\"http://srv.plab.fi/~tuomasv/data_analytics_2023_images/exercise_set_2/es2_5.png\" />"
   ]
  },
  {
   "cell_type": "code",
   "execution_count": null,
   "metadata": {},
   "outputs": [],
   "source": []
  }
 ],
 "metadata": {
  "language_info": {
   "name": "python"
  }
 },
 "nbformat": 4,
 "nbformat_minor": 2
}
