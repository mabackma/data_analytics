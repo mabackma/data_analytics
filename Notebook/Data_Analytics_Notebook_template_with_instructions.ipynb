{
 "cells": [
  {
   "attachments": {},
   "cell_type": "markdown",
   "metadata": {},
   "source": [
    "<h2>Data Analytics- notebook template and instructions</h2>"
   ]
  },
  {
   "attachments": {},
   "cell_type": "markdown",
   "metadata": {},
   "source": [
    "<b style=\"color: red;\">NOTE! Only creating seaborn visualizations etc. with your code is not sufficient for a Data Analytics notebook. <u>You also have to explain (either by markdown or code comments) what is interesting in the data, charts or visualizations.</u><br /><br />The reader of this notebook should be quickly able to see the basic information about the data as well the most interesting findings in your analytics.</b>\n",
    "\n",
    "If it helps you to decide what is important content in this notebook: <b>imagine this data analytics -notebook was going to be given to a customer oin your company. If you wonder \"should I write this down\", think about if the customer would be interested in that information :)</b>"
   ]
  },
  {
   "attachments": {},
   "cell_type": "markdown",
   "metadata": {},
   "source": [
    "<h4><b>Dataset name / short description:</b></h4>"
   ]
  },
  {
   "attachments": {},
   "cell_type": "markdown",
   "metadata": {},
   "source": [
    "Write here the name of your dataset (or datasets, if you use multiple datasets for your analysis) and write a short description of the data in each of the datasets. For example \"house price data in Chicago, US\".\n",
    "\n",
    "Note: using multiple datasets only refers to using multiple datasets about the same subject (for example, you could have one dataset about European markets and another about US markets). <b>If you're making completely separate data analysis cases, where the datasets have nothing in common, just create another Data Analytics notebook altogether. </b>\n",
    "\n",
    "You are allowed to return as many Data Analytics notebooks during this course as you want, each are rewarded for points (often easiest way to get to highest grades)."
   ]
  },
  {
   "attachments": {},
   "cell_type": "markdown",
   "metadata": {},
   "source": [
    "<h4><b>Data source (url):</b></h4>"
   ]
  },
  {
   "attachments": {},
   "cell_type": "markdown",
   "metadata": {},
   "source": [
    "Where is the original data located (kaggle.com, or something else?). Place also the original URL (or all URLs, if using many)"
   ]
  },
  {
   "attachments": {},
   "cell_type": "markdown",
   "metadata": {},
   "source": [
    "<h4><b>Data format:</b></h4>"
   ]
  },
  {
   "attachments": {},
   "cell_type": "markdown",
   "metadata": {},
   "source": [
    "What was the original data format: csv, json, webscraping or something else? <br /><br />Anything out of the ordinary that any other specialist should know? (this is not always needed. For example, if the data format is somehow not in the default format. Most common case: csv-file, where the separator is not comma, but semi-colon instead.)"
   ]
  },
  {
   "cell_type": "markdown",
   "metadata": {},
   "source": [
    "<h4><b>Data description, features and limitations:</b></h4>"
   ]
  },
  {
   "cell_type": "markdown",
   "metadata": {},
   "source": [
    "Explain the main features and columns of the data, and are there any limitations? Typically the limitations are having only certain time period or certain countries/areas, only a small number of data etc. \n",
    "<br /><br />\n",
    "<b>Optional:</b> Value ranges are also a nice information to have, for example: house prices, typical values 100k$ - 7.5M$\n",
    "<br /><br />\n",
    "<b>Note:</b> If your data consists of multiple files and you combine them, describe how they were combined in this part also (just on the general level)."
   ]
  },
  {
   "attachments": {},
   "cell_type": "markdown",
   "metadata": {},
   "source": [
    "<h3><b>Code: importing modules, custom functions and loading the data</b></h3>"
   ]
  },
  {
   "cell_type": "code",
   "execution_count": null,
   "metadata": {},
   "outputs": [],
   "source": [
    "# import all the modules you need here (NumPy, pandas etc.)\n",
    "# load up your datasets into DataFrames (or something similar)\n",
    "# this code phase can be any number of code lines, it really depends\n",
    "# on the data you're working with"
   ]
  },
  {
   "attachments": {},
   "cell_type": "markdown",
   "metadata": {},
   "source": [
    "<h3><b>Code: Data clean-up procedure</b></h3>"
   ]
  },
  {
   "cell_type": "code",
   "execution_count": null,
   "metadata": {},
   "outputs": [],
   "source": [
    "# clean-up your data with code in this part\n",
    "\n",
    "# IMPORTANT!: provide also markdown/comments of why you decided to do something with your data\n",
    "# - what columns you dropped out and why?\n",
    "# - did you create any new helpful columns or computations?\n",
    "# - did you combine columns?\n",
    "# - did your filter or modify any column values and why?\n",
    "# - were there any duplicate rows, and how did you handle them?\n",
    "# - were there any missing data, and if there was, how did you handle the missing values? \n",
    "# -- also explain the reason on how you decided to handle the missing values in a certain way\n",
    "# + anything else that is related to data pre-processing"
   ]
  },
  {
   "attachments": {},
   "cell_type": "markdown",
   "metadata": {},
   "source": [
    "<h3><b>Code: Data analysis</b></h3>"
   ]
  },
  {
   "cell_type": "code",
   "execution_count": 1,
   "metadata": {},
   "outputs": [],
   "source": [
    "# THIS IS THE MAJOR PART OF THIS ANALYSIS NOTEBOOK\n",
    "\n",
    "# Add all helpful plots and statistics numbers in this section. \n",
    "# Explain also why you selected a certain plot or computation in your analysis, and what you wished to achieve with them. \n",
    "\n",
    "# Note: do not add every possible plot and number that there exists, the idea is to be concise.\n",
    " \n",
    "# In other words, only show plots and numbers that show something interesting and mean something.  \n",
    "# Try to find out interesting correlations, contradictions and potential causations between categories and columns. \n",
    "# Is there something that was surprising in the data, or is there something that does or does not make sense?\n",
    "\n",
    "# if you find something interesting, try also Googling or generative AI to explain what might have happened in the data.\n",
    "# for example, your analysis could imply house prices fell down dramatically in year 2007. \n",
    "# If you Google after this: \"house price crisis 2007\", you'll find a reason why this might show in the data\n",
    "# also, based on data it could seem that honey production has decreased even if there are more bee colonies than before\n",
    "# if you then Google: \"honey production has decreased\", you might find an explanation\n",
    "\n",
    "# Support your findings with pandas statistics and seaborn plots. You can also use other plotting libraries if you wish.\n",
    "# This part of the report can have large amounts of code if the dataset is difficult.\n",
    "\n",
    "# You can also use quantitative analysis methods (chi-square, t-tests, ANOVA etc.) to support your findings, \n",
    "# but these are considered extra tasks/extra points only!\n",
    "\n",
    "# Tip: you can see many nice tricks for pandas and seaborn in the earlier exercise sets we have done during the\n",
    "# course. NumPy/pandas/seaborn etc. are just tools, it's okay to use all the tricks these modules have to offer\n",
    "# in order to find the interesting features of your data!\n"
   ]
  },
  {
   "attachments": {},
   "cell_type": "markdown",
   "metadata": {},
   "source": [
    "<h3><b>Results and summary:</b></h3>"
   ]
  },
  {
   "attachments": {},
   "cell_type": "markdown",
   "metadata": {},
   "source": [
    "Write a short summary about the dataset(s) and the data analytics, what was the most interesting findings in the data case? Was there something surprising? <br /><br />This should be a concise and easy-to-understand summary of what insight you find in the data. You can leave out the more \"unexciting\" details that you might have found in the actual analysis phase.<br /><br />\n",
    "<b>Note: </b>if this was a commissioned data analytics report which you give to your customer as a result, this part would be the most interesting part they would read through."
   ]
  },
  {
   "attachments": {},
   "cell_type": "markdown",
   "metadata": {},
   "source": [
    "<h3><b>Ideas for further improvements:</b></h3>"
   ]
  },
  {
   "attachments": {},
   "cell_type": "markdown",
   "metadata": {},
   "source": [
    "If you came up with new ideas how these findings could be improved, write them here. \n",
    "\n",
    "For example, would you need data from another time period or a different country, or would there be other additions that could make this data analysis more interesting? For example, housing data + geolocation data etc.\n",
    "\n",
    "Or would you like to try some more advanced, maybe even ML-based methods in order to find more insight and hidden connections in the data? This is the part where you can let your ideas and creativity flow."
   ]
  }
 ],
 "metadata": {
  "kernelspec": {
   "display_name": "Python 3.9.13 ('.venv': venv)",
   "language": "python",
   "name": "python3"
  },
  "language_info": {
   "codemirror_mode": {
    "name": "ipython",
    "version": 3
   },
   "file_extension": ".py",
   "mimetype": "text/x-python",
   "name": "python",
   "nbconvert_exporter": "python",
   "pygments_lexer": "ipython3",
   "version": "3.9.13"
  },
  "orig_nbformat": 4,
  "vscode": {
   "interpreter": {
    "hash": "8544013bb5ee00a6b36145eaa8d717abd0f46e906ee65ff52dc2ec64e749734d"
   }
  }
 },
 "nbformat": 4,
 "nbformat_minor": 2
}
